


# Dependencies and Setup
import hvplot.pandas
import pandas as pd
import requests
from pathlib import Path

# Import API key
from api_keys import geoapify_key


# Load the CSV file created in Part 1 into a Pandas DataFrame
csv_file = Path("../output_data/cities.csv")
city_data_df = pd.read_csv(csv_file)

# Display sample data
city_data_df.head()





%%capture --no-display

# Configure the map plot
map1 = city_data_df.hvplot.points("Lng", "Lat", geo=True, tiles="OSM", size="Humidity", color="City", hover_cols=["City", "Humidity"], frame_height=400, frame_width=600)
    

# Display the map
map1





# Narrow down cities that fit criteria and drop any results with null values
ideal_weather_df = city_data_df.loc[(city_data_df["Max Temp"]>15) & (city_data_df["Max Temp"]<25) & (city_data_df["Cloudiness"]<80) & (city_data_df["Humidity"]<65) & (city_data_df["Wind Speed"]<10)]

# Drop any rows with null values
ideal_weather_df = ideal_weather_df.dropna()

# Display sample data
ideal_weather_df.head()





# Use the Pandas copy function to create DataFrame called hotel_df to store the city, country, coordinates, and humidity
hotel_df = ideal_weather_df[['City', 'Country', 'Lat', 'Lng', 'Humidity']].copy()

# Add an empty column, "Hotel Name," to the DataFrame so you can store the hotel found using the Geoapify API
hotel_df = hotel_df.assign(Hotel_Name='')

# Display sample data
hotel_df.head()





# Set parameters to search for a hotel
radius = 10000
params = {"categories": "accommodation.hotel",
          "filter": "",
          "bias" : "", 
          "limit" : 1,
          "apiKey": geoapify_key
}

# Print a message to follow up the hotel search
print("Starting hotel search")

# Iterate through the hotel_df DataFrame
for index, row in hotel_df.iterrows():
    # get latitude, longitude from the DataFrame
    lat = row['Lat']
    lng = row['Lng']
    
    # Add filter and bias parameters with the current city's latitude and longitude to the params dictionary
    params["filter"] = f"circle:{lat},{lng},{radius}"  
    params["bias"] = f"proximity:{lat},{lng}" 
    
    # Set base URL
    base_url = "https://api.geoapify.com/v2/places"

    # Make and API request using the params dictionaty
    name_address = requests.get(base_url, params=params)
    
    # Convert the API response to JSON format
    name_address = name_address.json()
    
    # Grab the first hotel from the results and store the name in the hotel_df DataFrame
    try:
        hotel_df.loc[index, "Hotel Name"] = name_address["features"][0]["properties"]["name"]
    except (KeyError, IndexError):
        # If no hotel is found, set the hotel name as "No hotel found".
        hotel_df.loc[index, "Hotel Name"] = "No hotel found"
        
    # Log the search results
    print(f"{hotel_df.loc[index, 'City']} - nearest hotel: {hotel_df.loc[index, 'Hotel Name']}")

# Display sample data
hotel_df.head()





%%capture --no-display

# Configure the map plot
map2 = hotel_df.hvplot.points("Lng", "Lat", geo=True, tiles="OSM", size="Humidity", color="City", hover_cols=["City", "Humidity", "Hotel Name"], frame_height=400, frame_width=600)


# Display the map
map2



